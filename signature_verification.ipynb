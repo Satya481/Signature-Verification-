{
 "cells": [
  {
   "cell_type": "code",
   "execution_count": null,
   "id": "cab8fb03-0230-49ca-86cf-7272a7bfe721",
   "metadata": {},
   "outputs": [],
   "source": [
    "\n",
    "import os, glob, random\n",
    "import numpy as np\n",
    "import matplotlib.pyplot as plt\n",
    "from PIL import Image\n",
    "\n",
    "import torch\n",
    "import torch.nn as nn\n",
    "import torch.nn.functional as F\n",
    "from torch.utils.data import Dataset, DataLoader\n",
    "from torchvision import transforms, models\n",
    "\n",
    "from sklearn.metrics import roc_curve, auc, accuracy_score\n"
   ]
  },
  {
   "cell_type": "code",
   "execution_count": null,
   "id": "7b06f0bf-572e-41e5-b10d-9ca1cd71cc83",
   "metadata": {},
   "outputs": [
    {
     "name": "stdout",
     "output_type": "stream",
     "text": [
      "Using device: cuda\n"
     ]
    }
   ],
   "source": [
    "\n",
    "# Automatically use GPU if available\n",
    "DEVICE = torch.device(\"cuda\" if torch.cuda.is_available() else \"cpu\")\n",
    "print(\"Using device:\", DEVICE)\n",
    "\n",
    "# Parameters\n",
    "ROOT_DIR = r\"C:\\Users\\gupta\\OneDrive\\Desktop\\misba_model\\signatures\"\n",
    "IMG_SIZE = (224, 224)\n",
    "BATCH_SIZE = 16\n",
    "EPOCHS = 10\n",
    "LR = 1e-4\n",
    "RANDOM_SEED = 42\n",
    "\n",
    "torch.manual_seed(RANDOM_SEED)\n",
    "np.random.seed(RANDOM_SEED)\n",
    "random.seed(RANDOM_SEED)\n"
   ]
  },
  {
   "cell_type": "code",
   "execution_count": null,
   "id": "58c8ec55-cbf2-489c-97df-031373b1ff84",
   "metadata": {},
   "outputs": [
    {
     "name": "stdout",
     "output_type": "stream",
     "text": [
      "Total writers: 55\n"
     ]
    }
   ],
   "source": [
    "\n",
    "def scan_dataset(root_dir):\n",
    "    writers = {}\n",
    "    for writer_folder in sorted(os.listdir(root_dir)):\n",
    "        wpath = os.path.join(root_dir, writer_folder)\n",
    "        if not os.path.isdir(wpath): continue\n",
    "        genuine = glob.glob(os.path.join(wpath, \"original*.png\"))\n",
    "        forged = glob.glob(os.path.join(wpath, \"forgeries*.png\"))\n",
    "        writers[writer_folder] = {\"genuine\": genuine, \"forged\": forged}\n",
    "    return writers\n",
    "\n",
    "writers_dict = scan_dataset(ROOT_DIR)\n",
    "print(\"Total writers:\", len(writers_dict))\n"
   ]
  },
  {
   "cell_type": "code",
   "execution_count": null,
   "id": "0baea7b7-d4ef-4cdf-a65f-84f9c87ffcc8",
   "metadata": {},
   "outputs": [],
   "source": [
    "\n",
    "class SignaturePairDataset(Dataset):\n",
    "    def __init__(self, writers_dict, transform=None, num_pairs_per_writer=20):\n",
    "        self.pairs = []\n",
    "        self.transform = transform\n",
    "\n",
    "        for w, files in writers_dict.items():\n",
    "            genuine = files[\"genuine\"]\n",
    "            forged = files[\"forged\"]\n",
    "\n",
    "            # Positive pairs (genuine-genuine)\n",
    "            for _ in range(num_pairs_per_writer):\n",
    "                if len(genuine) >= 2:\n",
    "                    a, b = random.sample(genuine, 2)\n",
    "                    self.pairs.append((a, b, 1))\n",
    "\n",
    "            # Negative pairs (genuine-forged)\n",
    "            for _ in range(num_pairs_per_writer):\n",
    "                if len(genuine) >= 1 and len(forged) >= 1:\n",
    "                    a = random.choice(genuine)\n",
    "                    b = random.choice(forged)\n",
    "                    self.pairs.append((a, b, 0))\n",
    "\n",
    "    def __len__(self):\n",
    "        return len(self.pairs)\n",
    "\n",
    "    def __getitem__(self, idx):\n",
    "        path1, path2, label = self.pairs[idx]\n",
    "        img1 = Image.open(path1).convert(\"L\")\n",
    "        img2 = Image.open(path2).convert(\"L\")\n",
    "\n",
    "        if self.transform:\n",
    "            img1 = self.transform(img1)\n",
    "            img2 = self.transform(img2)\n",
    "\n",
    "        return img1, img2, torch.tensor(label, dtype=torch.float32)\n",
    "\n",
    "transform = transforms.Compose([\n",
    "    transforms.Resize(IMG_SIZE),\n",
    "    transforms.ToTensor()\n",
    "])\n"
   ]
  },
  {
   "cell_type": "code",
   "execution_count": null,
   "id": "3e51f483-6b84-43c4-975e-35341a428c9c",
   "metadata": {},
   "outputs": [
    {
     "name": "stdout",
     "output_type": "stream",
     "text": [
      "Train pairs: 1760 Test pairs: 440\n"
     ]
    }
   ],
   "source": [
    "\n",
    "all_writers = list(writers_dict.keys())\n",
    "random.shuffle(all_writers)\n",
    "\n",
    "split = int(0.8 * len(all_writers))\n",
    "train_writers = {w: writers_dict[w] for w in all_writers[:split]}\n",
    "test_writers  = {w: writers_dict[w] for w in all_writers[split:]}\n",
    "\n",
    "train_ds = SignaturePairDataset(train_writers, transform=transform)\n",
    "test_ds  = SignaturePairDataset(test_writers, transform=transform)\n",
    "\n",
    "train_loader = DataLoader(train_ds, batch_size=BATCH_SIZE, shuffle=True)\n",
    "test_loader  = DataLoader(test_ds, batch_size=BATCH_SIZE, shuffle=False)\n",
    "\n",
    "print(\"Train pairs:\", len(train_ds), \"Test pairs:\", len(test_ds))\n"
   ]
  },
  {
   "cell_type": "code",
   "execution_count": null,
   "id": "94e453cf-0c61-426c-864c-e5a5b71d3f31",
   "metadata": {},
   "outputs": [],
   "source": [
    "\n",
    "class SiameseNet(nn.Module):\n",
    "    def __init__(self):\n",
    "        super().__init__()\n",
    "        base = models.resnet18(pretrained=True)\n",
    "        base.fc = nn.Linear(base.fc.in_features, 128)  # embedding size 128\n",
    "        self.base = base\n",
    "\n",
    "    def forward_once(self, x):\n",
    "        return self.base(x.repeat(1,3,1,1))  # convert gray->3 channels\n",
    "\n",
    "    def forward(self, x1, x2):\n",
    "        e1 = self.forward_once(x1)\n",
    "        e2 = self.forward_once(x2)\n",
    "        return e1, e2\n",
    "\n",
    "def contrastive_loss(e1, e2, label, margin=1.0):\n",
    "    dist = F.pairwise_distance(e1, e2)\n",
    "    loss = torch.mean(label * dist**2 + (1-label) * F.relu(margin - dist)**2)\n",
    "    return loss, dist\n"
   ]
  },
  {
   "cell_type": "code",
   "execution_count": null,
   "id": "fafdd06e-757e-437b-ab0d-cf2640607a5a",
   "metadata": {},
   "outputs": [
    {
     "name": "stderr",
     "output_type": "stream",
     "text": [
      "C:\\Users\\gupta\\anaconda3\\envs\\tf\\lib\\site-packages\\torchvision\\models\\_utils.py:208: UserWarning: The parameter 'pretrained' is deprecated since 0.13 and may be removed in the future, please use 'weights' instead.\n",
      "  warnings.warn(\n",
      "C:\\Users\\gupta\\anaconda3\\envs\\tf\\lib\\site-packages\\torchvision\\models\\_utils.py:223: UserWarning: Arguments other than a weight enum or `None` for 'weights' are deprecated since 0.13 and may be removed in the future. The current behavior is equivalent to passing `weights=ResNet18_Weights.IMAGENET1K_V1`. You can also use `weights=ResNet18_Weights.DEFAULT` to get the most up-to-date weights.\n",
      "  warnings.warn(msg)\n",
      "Downloading: \"https://download.pytorch.org/models/resnet18-f37072fd.pth\" to C:\\Users\\gupta/.cache\\torch\\hub\\checkpoints\\resnet18-f37072fd.pth\n",
      "100%|█████████████████████████████████████████████████████████████████████████████| 44.7M/44.7M [00:12<00:00, 3.79MB/s]\n"
     ]
    },
    {
     "name": "stdout",
     "output_type": "stream",
     "text": [
      "Epoch 1/10, Loss: 1.3201\n",
      "Epoch 2/10, Loss: 0.1517\n",
      "Epoch 3/10, Loss: 0.1043\n",
      "Epoch 4/10, Loss: 0.0724\n",
      "Epoch 5/10, Loss: 0.0508\n",
      "Epoch 6/10, Loss: 0.0385\n",
      "Epoch 7/10, Loss: 0.0324\n",
      "Epoch 8/10, Loss: 0.0229\n",
      "Epoch 9/10, Loss: 0.0187\n",
      "Epoch 10/10, Loss: 0.0175\n"
     ]
    }
   ],
   "source": [
    "\n",
    "model = SiameseNet().to(DEVICE)\n",
    "optimizer = torch.optim.Adam(model.parameters(), lr=LR)\n",
    "\n",
    "for epoch in range(EPOCHS):\n",
    "    model.train()\n",
    "    total_loss = 0\n",
    "    for img1, img2, label in train_loader:\n",
    "        img1, img2, label = img1.to(DEVICE), img2.to(DEVICE), label.to(DEVICE)\n",
    "\n",
    "        e1, e2 = model(img1, img2)\n",
    "        loss, _ = contrastive_loss(e1, e2, label)\n",
    "\n",
    "        optimizer.zero_grad()\n",
    "        loss.backward()\n",
    "        optimizer.step()\n",
    "\n",
    "        total_loss += loss.item()\n",
    "\n",
    "    print(f\"Epoch {epoch+1}/{EPOCHS}, Loss: {total_loss/len(train_loader):.4f}\")\n"
   ]
  },
  {
   "cell_type": "code",
   "execution_count": null,
   "id": "1021cf24-1e04-4271-9d72-88709e8a3078",
   "metadata": {},
   "outputs": [
    {
     "data": {
      "image/png": "[encoded data removed]",
      "text/plain": [
       "<Figure size 640x480 with 1 Axes>"
      ]
     },
     "metadata": {},
     "output_type": "display_data"
    }
   ],
   "source": [
    "\n",
    "model.eval()\n",
    "labels, scores = [], []\n",
    "\n",
    "with torch.no_grad():\n",
    "    for img1, img2, label in test_loader:\n",
    "        img1, img2 = img1.to(DEVICE), img2.to(DEVICE)\n",
    "        e1, e2 = model(img1, img2)\n",
    "        dist = F.pairwise_distance(e1, e2).cpu().numpy()\n",
    "        scores.extend(dist)\n",
    "        labels.extend(label.numpy())\n",
    "\n",
    "fpr, tpr, thr = roc_curve(labels, -np.array(scores))\n",
    "roc_auc = auc(fpr, tpr)\n",
    "\n",
    "plt.plot(fpr, tpr, label=f\"AUC={roc_auc:.3f}\")\n",
    "plt.xlabel(\"FPR\"); plt.ylabel(\"TPR\")\n",
    "plt.legend(); plt.show()\n"
   ]
  },
  {
   "cell_type": "code",
   "execution_count": null,
   "id": "5e04a37d-4d63-4dc7-8f28-52b5707a4568",
   "metadata": {},
   "outputs": [
    {
     "name": "stdout",
     "output_type": "stream",
     "text": [
      "Test Accuracy: 1.0\n"
     ]
    }
   ],
   "source": [
    "\n",
    "threshold = np.median(scores)\n",
    "preds = [1 if s < threshold else 0 for s in scores]\n",
    "acc = accuracy_score(labels, preds)\n",
    "print(\"Test Accuracy:\", acc)\n"
   ]
  },
  {
   "cell_type": "code",
   "execution_count": null,
   "id": "5c8f5069-f203-4254-8ca9-7469514af9e7",
   "metadata": {},
   "outputs": [
    {
     "name": "stdout",
     "output_type": "stream",
     "text": [
      "Model saved at: C:\\Users\\gupta\\OneDrive\\Desktop\\misba_model\\siamese_signature.pth\n"
     ]
    },
    {
     "name": "stderr",
     "output_type": "stream",
     "text": [
      "C:\\Users\\gupta\\anaconda3\\envs\\tf\\lib\\site-packages\\torchvision\\models\\_utils.py:208: UserWarning: The parameter 'pretrained' is deprecated since 0.13 and may be removed in the future, please use 'weights' instead.\n",
      "  warnings.warn(\n",
      "C:\\Users\\gupta\\anaconda3\\envs\\tf\\lib\\site-packages\\torchvision\\models\\_utils.py:223: UserWarning: Arguments other than a weight enum or `None` for 'weights' are deprecated since 0.13 and may be removed in the future. The current behavior is equivalent to passing `weights=ResNet18_Weights.IMAGENET1K_V1`. You can also use `weights=ResNet18_Weights.DEFAULT` to get the most up-to-date weights.\n",
      "  warnings.warn(msg)\n",
      "C:\\Users\\gupta\\AppData\\Local\\Temp\\ipykernel_5672\\2650392372.py:10: FutureWarning: You are using `torch.load` with `weights_only=False` (the current default value), which uses the default pickle module implicitly. It is possible to construct malicious pickle data which will execute arbitrary code during unpickling (See https://github.com/pytorch/pytorch/blob/main/SECURITY.md#untrusted-models for more details). In a future release, the default value for `weights_only` will be flipped to `True`. This limits the functions that could be executed during unpickling. Arbitrary objects will no longer be allowed to be loaded via this mode unless they are explicitly allowlisted by the user via `torch.serialization.add_safe_globals`. We recommend you start setting `weights_only=True` for any use case where you don't have full control of the loaded file. Please open an issue on GitHub for any issues related to this experimental feature.\n",
      "  model.load_state_dict(torch.load(model_path, map_location=DEVICE))\n"
     ]
    },
    {
     "name": "stdout",
     "output_type": "stream",
     "text": [
      "Result: Forgery Distance: 3.257835865020752\n"
     ]
    }
   ],
   "source": [
    "\n",
    "# --- Save the trained model ---\n",
    "MODEL_PATH = r\"C:\\Users\\gupta\\OneDrive\\Desktop\\misba_model\\siamese_signature.pth\"\n",
    "torch.save(model.state_dict(), MODEL_PATH)\n",
    "print(\"Model saved at:\", MODEL_PATH)\n",
    "\n",
    "# --- Function to load model ---\n",
    "def load_siamese(model_path):\n",
    "    model = SiameseNet().to(DEVICE)\n",
    "    model.load_state_dict(torch.load(model_path, map_location=DEVICE))\n",
    "    model.eval()\n",
    "    return model\n",
    "\n",
    "# --- Function to compare two signature images ---\n",
    "def verify_signature(model, img_path1, img_path2, transform, threshold=None):\n",
    "    img1 = Image.open(img_path1).convert(\"L\")\n",
    "    img2 = Image.open(img_path2).convert(\"L\")\n",
    "\n",
    "    img1 = transform(img1).unsqueeze(0).to(DEVICE)\n",
    "    img2 = transform(img2).unsqueeze(0).to(DEVICE)\n",
    "\n",
    "    with torch.no_grad():\n",
    "        e1, e2 = model(img1, img2)\n",
    "        dist = F.pairwise_distance(e1, e2).item()\n",
    "\n",
    "    if threshold is None:\n",
    "        threshold = 0.5  # default, you can adjust based on ROC/validation\n",
    "\n",
    "    result = \"Genuine\" if dist < threshold else \"Forgery\"\n",
    "    return result, dist\n",
    "\n",
    "# --- Example usage ---\n",
    "model = load_siamese(MODEL_PATH)\n",
    "img1 = r\"C:\\Users\\gupta\\OneDrive\\Desktop\\misba_model\\signatures\\signatures_1\\original_1_1.png\"\n",
    "img2 = r\"C:\\Users\\gupta\\OneDrive\\Desktop\\misba_model\\signatures\\signatures_1\\forgeries_1_1.png\"\n",
    "\n",
    "result, distance = verify_signature(model, img1, img2, transform, threshold=np.median(scores))\n",
    "print(\"Result:\", result, \"Distance:\", distance)\n"
   ]
  },
  {
   "cell_type": "code",
   "execution_count": null,
   "id": "36734349-a371-47ce-8414-2ed38d350deb",
   "metadata": {},
   "outputs": [],
   "source": []
  }
 ],
 "metadata": {
  "kernelspec": {
   "display_name": "Python 3 (ipykernel)",
   "language": "python",
   "name": "python3"
  },
  "language_info": {
   "codemirror_mode": {
    "name": "ipython",
    "version": 3
   },
   "file_extension": ".py",
   "mimetype": "text/x-python",
   "name": "python",
   "nbconvert_exporter": "python",
   "pygments_lexer": "ipython3",
   "version": "3.9.23"
  }
 },
 "nbformat": 4,
 "nbformat_minor": 5
}
